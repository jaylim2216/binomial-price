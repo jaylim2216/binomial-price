{
 "cells": [
  {
   "attachments": {},
   "cell_type": "markdown",
   "metadata": {},
   "source": [
    "### Binomial Asset Pricing Model\n",
    "Implementation of a slow and fast binomial pricing model in python. We first treat the binomial tree as a network of nodes (i, j), with i representing the time steps and j representing the number of ordered price outcome (bottom of tree -> lowest, top of tree -> highest)\n"
   ]
  },
  {
   "cell_type": "code",
   "execution_count": 5,
   "metadata": {},
   "outputs": [],
   "source": [
    "import numpy as np"
   ]
  },
  {
   "attachments": {},
   "cell_type": "markdown",
   "metadata": {},
   "source": [
    "### Representation of the Binomial Tree\n",
    "Stock price can be represented using nodes (i, j) and initial stock price $ S_{0} $\n",
    "\n",
    "$ S_{ij} = S_{0}u^{j}d^{i-j} $\n",
    "\n",
    "$ C_{ij} $ represents the price of the call option at each node (i, j). Where $ C_{Nj} $ represents the final payoff function that we will define\n",
    "\n",
    "For this project, we shall price a European Call, so $ C_{Nj} $ = max($ S_{Nj} $ - K, 0)\n",
    "\n"
   ]
  },
  {
   "cell_type": "code",
   "execution_count": 6,
   "metadata": {},
   "outputs": [],
   "source": [
    "# Initialise parameters\n",
    "S0 = 100    # initial stock price\n",
    "K = 100     # strike price\n",
    "T = 1       # time to maturity in years\n",
    "r = 0.06    # common risk-free interest rate\n",
    "N = 3       # number of time steps\n",
    "u = 1.1     # up factor\n",
    "d = 1/u     # down factor, to ensure recombining tree\n",
    "opt = 'C'   # Option Type 'C' or 'P'"
   ]
  },
  {
   "attachments": {},
   "cell_type": "markdown",
   "metadata": {},
   "source": [
    "### Binomial Tree (Slow)\n",
    "We use loops to iterate through nodes j at each time step i"
   ]
  },
  {
   "cell_type": "code",
   "execution_count": 7,
   "metadata": {},
   "outputs": [
    {
     "data": {
      "text/plain": [
       "10.145735799928817"
      ]
     },
     "execution_count": 7,
     "metadata": {},
     "output_type": "execute_result"
    }
   ],
   "source": [
    "def binomial_tree_slow(S0, K ,T , r, N, u, d, opt = 'C'):\n",
    "    # constants\n",
    "    dt = T/N    # each time step\n",
    "    q = (np.exp(r*dt)-d) / (u-d)  # risk-neutral probability\n",
    "    disc = np.exp(-r*dt)\n",
    "\n",
    "    # initialise asset price at maturity - Time step N\n",
    "    S = np.zeros(N+1)  # N step binomial tree will result in N+1 nodes at i = N\n",
    "    S[0] = S0*d**N     # Initialising bottom of the tree at the end\n",
    "    for j in range(1,N+1):\n",
    "        S[j] = S[j-1]*u/d\n",
    "\n",
    "    # initialise option values at maturity\n",
    "    C = np.zeros(N+1)\n",
    "    for j in range(0, N+1):\n",
    "        C[j] = max(S[j] - K, 0)\n",
    "\n",
    "    # moving backwords through the tree\n",
    "    for i in np.arange(N,0,-1):     # each time period\n",
    "        for j in range(0, i):       # each position of tree\n",
    "            C[j] = disc * (q*C[j+1] + (1-q)*C[j]) # iterative process\n",
    "\n",
    "    return C[0]\n",
    "binomial_tree_slow(S0, K ,T , r, N, u, d, opt = 'C')"
   ]
  },
  {
   "cell_type": "code",
   "execution_count": null,
   "metadata": {},
   "outputs": [],
   "source": [
    " "
   ]
  }
 ],
 "metadata": {
  "kernelspec": {
   "display_name": "Python 3",
   "language": "python",
   "name": "python3"
  },
  "language_info": {
   "codemirror_mode": {
    "name": "ipython",
    "version": 3
   },
   "file_extension": ".py",
   "mimetype": "text/x-python",
   "name": "python",
   "nbconvert_exporter": "python",
   "pygments_lexer": "ipython3",
   "version": "3.10.6"
  },
  "orig_nbformat": 4
 },
 "nbformat": 4,
 "nbformat_minor": 2
}
