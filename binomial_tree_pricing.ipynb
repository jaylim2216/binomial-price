{
 "cells": [
  {
   "attachments": {},
   "cell_type": "markdown",
   "metadata": {},
   "source": [
    "### Binomial Asset Pricing Model\n",
    "Implementation of a slow and fast binomial pricing model in python. We first treat the binomial tree as a network of nodes (i, j), with i representing the time steps and j representing the number of ordered price outcome (bottom of tree -> lowest, top of tree -> highest)\n"
   ]
  },
  {
   "cell_type": "code",
   "execution_count": 10,
   "metadata": {},
   "outputs": [],
   "source": [
    "import numpy as np"
   ]
  },
  {
   "attachments": {},
   "cell_type": "markdown",
   "metadata": {},
   "source": [
    "#### Timing Wrapper Function\n",
    "This function will be used to benchmark the two binomial models"
   ]
  },
  {
   "cell_type": "code",
   "execution_count": 11,
   "metadata": {},
   "outputs": [],
   "source": [
    "from functools import wraps\n",
    "from time import time\n",
    "\n",
    "def timing(f):\n",
    "    @wraps(f)\n",
    "    def wrap(*args, **kw):\n",
    "        ts = time()\n",
    "        result = f(*args, **kw)\n",
    "        te = time()\n",
    "        print('func:%r args:[%r, %r] took: %2.4f sec' % \\\n",
    "              (f.__name__, args, kw, te-ts))\n",
    "        return result\n",
    "    return wrap"
   ]
  },
  {
   "attachments": {},
   "cell_type": "markdown",
   "metadata": {},
   "source": [
    "### Representation of the Binomial Tree\n",
    "Stock price can be represented using nodes (i, j) and initial stock price $ S_{0} $\n",
    "\n",
    "$ S_{ij} = S_{0}u^{j}d^{i-j} $\n",
    "\n",
    "$ C_{ij} $ represents the price of the call option at each node (i, j). Where $ C_{Nj} $ represents the final payoff function that we will define\n",
    "\n",
    "For this project, we shall price a European Call, so $ C_{Nj} $ = max($ S_{Nj} $ - K, 0)\n",
    "\n"
   ]
  },
  {
   "cell_type": "code",
   "execution_count": 12,
   "metadata": {},
   "outputs": [],
   "source": [
    "# Initialise parameters\n",
    "S0 = 100    # initial stock price\n",
    "K = 100     # strike price\n",
    "T = 1       # time to maturity in years\n",
    "r = 0.06    # common risk-free interest rate\n",
    "N = 3       # number of time steps\n",
    "u = 1.1     # up factor\n",
    "d = 1/u     # down factor, to ensure recombining tree\n",
    "opt = 'C'   # Option Type 'C' or 'P'"
   ]
  },
  {
   "attachments": {},
   "cell_type": "markdown",
   "metadata": {},
   "source": [
    "### Binomial Tree (Slow)\n",
    "We use loops to iterate through nodes j at each time step i"
   ]
  },
  {
   "cell_type": "code",
   "execution_count": 13,
   "metadata": {},
   "outputs": [
    {
     "name": "stdout",
     "output_type": "stream",
     "text": [
      "func:'binomial_tree_slow' args:[(100, 100, 1, 0.06, 3, 1.1, 0.9090909090909091), {'opt': 'C'}] took: 0.0010 sec\n"
     ]
    },
    {
     "data": {
      "text/plain": [
       "10.145735799928817"
      ]
     },
     "execution_count": 13,
     "metadata": {},
     "output_type": "execute_result"
    }
   ],
   "source": [
    "@timing\n",
    "def binomial_tree_slow(S0, K ,T , r, N, u, d, opt = 'C'):\n",
    "    # constants\n",
    "    dt = T/N    # each time step\n",
    "    q = (np.exp(r*dt)-d) / (u-d)  # risk-neutral probability\n",
    "    disc = np.exp(-r*dt)\n",
    "\n",
    "    # initialise asset price at maturity - Time step N\n",
    "    S = np.zeros(N+1)  # N step binomial tree will result in N+1 nodes at i = N\n",
    "    S[0] = S0*d**N     # Initialising bottom of the tree at the end\n",
    "    for j in range(1,N+1):\n",
    "        S[j] = S[j-1]*u/d\n",
    "\n",
    "    # initialise option values at maturity\n",
    "    C = np.zeros(N+1)\n",
    "    for j in range(0, N+1):\n",
    "        C[j] = max(S[j] - K, 0)\n",
    "\n",
    "    # moving backwords through the tree\n",
    "    for i in np.arange(N,0,-1):     # each time period\n",
    "        for j in range(0, i):       # each position of tree\n",
    "            C[j] = disc * (q*C[j+1] + (1-q)*C[j]) # iterative process\n",
    "\n",
    "    return C[0]\n",
    "binomial_tree_slow(S0, K ,T , r, N, u, d, opt = 'C')"
   ]
  },
  {
   "attachments": {},
   "cell_type": "markdown",
   "metadata": {},
   "source": [
    "### Binomial Tree Fast\n",
    "Now we will vectorise the code above using numpy arrays instead of using for loops through j nodes "
   ]
  },
  {
   "cell_type": "code",
   "execution_count": 14,
   "metadata": {},
   "outputs": [
    {
     "name": "stdout",
     "output_type": "stream",
     "text": [
      "func:'binomial_tree_fast' args:[(100, 100, 1, 0.06, 3, 1.1, 0.9090909090909091), {'opt': 'C'}] took: 0.0000 sec\n"
     ]
    },
    {
     "data": {
      "text/plain": [
       "10.145735799928826"
      ]
     },
     "execution_count": 14,
     "metadata": {},
     "output_type": "execute_result"
    }
   ],
   "source": [
    "@timing\n",
    "def binomial_tree_fast(S0, K ,T , r, N, u, d, opt = 'C'):\n",
    "    # constants\n",
    "    dt = T/N    # each time step\n",
    "    q = (np.exp(r*dt)-d) / (u-d)  # risk-neutral probability\n",
    "    disc = np.exp(-r*dt)\n",
    "\n",
    "    # initialise asset price at maturity - Time step N\n",
    "    C = S0 * d **(np.arange(N,-1,-1)) * u **(np.arange(0, N+1, 1))  # C is an array containing the asset prices at maturity\n",
    "\n",
    "    # initialise option values at maturity\n",
    "    C = np.maximum(C - K, 0)    # C returns an array containing max value between C-K and 0 (iterates through C)\n",
    "    \n",
    "    # moving backwards through the tree\n",
    "    for i in np.arange(N, 0 , -1):\n",
    "        C = disc * ( q * C[1:i+1] + (1-q) * C[0:i])  #C[1:i+1] is the up vector, C[0:i] is the down vector\n",
    "    \n",
    "    return C[0]\n",
    "binomial_tree_fast(S0, K ,T , r, N, u, d, opt = 'C')"
   ]
  },
  {
   "attachments": {},
   "cell_type": "markdown",
   "metadata": {},
   "source": [
    "### Binomial Tree Model Fast vs Slow\n",
    "We now compare the runtimes for the models above, assuming all parameters kept constant except for N"
   ]
  },
  {
   "cell_type": "code",
   "execution_count": 16,
   "metadata": {},
   "outputs": [
    {
     "name": "stdout",
     "output_type": "stream",
     "text": [
      "func:'binomial_tree_slow' args:[(100, 100, 1, 0.06, 10, 1.1, 0.9090909090909091), {'opt': 'C'}] took: 0.0010 sec\n",
      "func:'binomial_tree_fast' args:[(100, 100, 1, 0.06, 10, 1.1, 0.9090909090909091), {'opt': 'C'}] took: 0.0005 sec\n",
      "func:'binomial_tree_slow' args:[(100, 100, 1, 0.06, 100, 1.1, 0.9090909090909091), {'opt': 'C'}] took: 0.0020 sec\n",
      "func:'binomial_tree_fast' args:[(100, 100, 1, 0.06, 100, 1.1, 0.9090909090909091), {'opt': 'C'}] took: 0.0000 sec\n",
      "func:'binomial_tree_slow' args:[(100, 100, 1, 0.06, 1000, 1.1, 0.9090909090909091), {'opt': 'C'}] took: 0.1975 sec\n",
      "func:'binomial_tree_fast' args:[(100, 100, 1, 0.06, 1000, 1.1, 0.9090909090909091), {'opt': 'C'}] took: 0.0055 sec\n",
      "func:'binomial_tree_slow' args:[(100, 100, 1, 0.06, 5000, 1.1, 0.9090909090909091), {'opt': 'C'}] took: 4.6301 sec\n",
      "func:'binomial_tree_fast' args:[(100, 100, 1, 0.06, 5000, 1.1, 0.9090909090909091), {'opt': 'C'}] took: 0.0344 sec\n"
     ]
    }
   ],
   "source": [
    "for N in [10, 100, 1000, 5000]:\n",
    "    binomial_tree_slow(S0, K ,T , r, N, u, d, opt = 'C')\n",
    "    binomial_tree_fast(S0, K ,T , r, N, u, d, opt = 'C')"
   ]
  }
 ],
 "metadata": {
  "kernelspec": {
   "display_name": "Python 3",
   "language": "python",
   "name": "python3"
  },
  "language_info": {
   "codemirror_mode": {
    "name": "ipython",
    "version": 3
   },
   "file_extension": ".py",
   "mimetype": "text/x-python",
   "name": "python",
   "nbconvert_exporter": "python",
   "pygments_lexer": "ipython3",
   "version": "3.10.6"
  },
  "orig_nbformat": 4
 },
 "nbformat": 4,
 "nbformat_minor": 2
}
